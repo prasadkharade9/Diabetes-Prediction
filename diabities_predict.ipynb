{
 "cells": [
  {
   "cell_type": "code",
   "execution_count": 1,
   "metadata": {},
   "outputs": [],
   "source": [
    "# Importing  necessary libraries\n",
    "import pandas as pd\n",
    "from sklearn.model_selection import train_test_split\n",
    "from sklearn.tree import DecisionTreeClassifier\n",
    "from sklearn.metrics import accuracy_score, classification_report, confusion_matrix\n"
   ]
  },
  {
   "cell_type": "code",
   "execution_count": 2,
   "metadata": {},
   "outputs": [],
   "source": [
    "df=pd.read_csv(\"diabetes.csv\") # Read the CSV file "
   ]
  },
  {
   "cell_type": "code",
   "execution_count": 3,
   "metadata": {},
   "outputs": [
    {
     "name": "stdout",
     "output_type": "stream",
     "text": [
      "   Pregnancies  Glucose  BloodPressure  SkinThickness  Insulin   BMI  \\\n",
      "0            6      148             72             35        0  33.6   \n",
      "1            1       85             66             29        0  26.6   \n",
      "2            8      183             64              0        0  23.3   \n",
      "3            1       89             66             23       94  28.1   \n",
      "4            0      137             40             35      168  43.1   \n",
      "\n",
      "   DiabetesPedigreeFunction  Age  Outcome  \n",
      "0                     0.627   50        1  \n",
      "1                     0.351   31        0  \n",
      "2                     0.672   32        1  \n",
      "3                     0.167   21        0  \n",
      "4                     2.288   33        1  \n"
     ]
    }
   ],
   "source": [
    "print(df.head())  # Display the first few rows of the dataset"
   ]
  },
  {
   "cell_type": "code",
   "execution_count": 4,
   "metadata": {},
   "outputs": [],
   "source": [
    "\n",
    "X = df.drop('Outcome', axis=1)  # Split the dataset into features (X) and labels (y)\n",
    "y = df['Outcome']\n"
   ]
  },
  {
   "cell_type": "code",
   "execution_count": 5,
   "metadata": {},
   "outputs": [],
   "source": [
    "# get  the data into training and testing sets\n",
    "X_train, X_test, y_train, y_test = train_test_split(X, y, test_size=0.2, random_state=42)\n"
   ]
  },
  {
   "cell_type": "code",
   "execution_count": 6,
   "metadata": {},
   "outputs": [],
   "source": [
    "\n",
    "model = DecisionTreeClassifier(random_state=42)     # Create a Decision Tree model\n",
    "\n"
   ]
  },
  {
   "cell_type": "code",
   "execution_count": 7,
   "metadata": {},
   "outputs": [
    {
     "data": {
      "text/html": [
       "<style>#sk-container-id-1 {color: black;}#sk-container-id-1 pre{padding: 0;}#sk-container-id-1 div.sk-toggleable {background-color: white;}#sk-container-id-1 label.sk-toggleable__label {cursor: pointer;display: block;width: 100%;margin-bottom: 0;padding: 0.3em;box-sizing: border-box;text-align: center;}#sk-container-id-1 label.sk-toggleable__label-arrow:before {content: \"▸\";float: left;margin-right: 0.25em;color: #696969;}#sk-container-id-1 label.sk-toggleable__label-arrow:hover:before {color: black;}#sk-container-id-1 div.sk-estimator:hover label.sk-toggleable__label-arrow:before {color: black;}#sk-container-id-1 div.sk-toggleable__content {max-height: 0;max-width: 0;overflow: hidden;text-align: left;background-color: #f0f8ff;}#sk-container-id-1 div.sk-toggleable__content pre {margin: 0.2em;color: black;border-radius: 0.25em;background-color: #f0f8ff;}#sk-container-id-1 input.sk-toggleable__control:checked~div.sk-toggleable__content {max-height: 200px;max-width: 100%;overflow: auto;}#sk-container-id-1 input.sk-toggleable__control:checked~label.sk-toggleable__label-arrow:before {content: \"▾\";}#sk-container-id-1 div.sk-estimator input.sk-toggleable__control:checked~label.sk-toggleable__label {background-color: #d4ebff;}#sk-container-id-1 div.sk-label input.sk-toggleable__control:checked~label.sk-toggleable__label {background-color: #d4ebff;}#sk-container-id-1 input.sk-hidden--visually {border: 0;clip: rect(1px 1px 1px 1px);clip: rect(1px, 1px, 1px, 1px);height: 1px;margin: -1px;overflow: hidden;padding: 0;position: absolute;width: 1px;}#sk-container-id-1 div.sk-estimator {font-family: monospace;background-color: #f0f8ff;border: 1px dotted black;border-radius: 0.25em;box-sizing: border-box;margin-bottom: 0.5em;}#sk-container-id-1 div.sk-estimator:hover {background-color: #d4ebff;}#sk-container-id-1 div.sk-parallel-item::after {content: \"\";width: 100%;border-bottom: 1px solid gray;flex-grow: 1;}#sk-container-id-1 div.sk-label:hover label.sk-toggleable__label {background-color: #d4ebff;}#sk-container-id-1 div.sk-serial::before {content: \"\";position: absolute;border-left: 1px solid gray;box-sizing: border-box;top: 0;bottom: 0;left: 50%;z-index: 0;}#sk-container-id-1 div.sk-serial {display: flex;flex-direction: column;align-items: center;background-color: white;padding-right: 0.2em;padding-left: 0.2em;position: relative;}#sk-container-id-1 div.sk-item {position: relative;z-index: 1;}#sk-container-id-1 div.sk-parallel {display: flex;align-items: stretch;justify-content: center;background-color: white;position: relative;}#sk-container-id-1 div.sk-item::before, #sk-container-id-1 div.sk-parallel-item::before {content: \"\";position: absolute;border-left: 1px solid gray;box-sizing: border-box;top: 0;bottom: 0;left: 50%;z-index: -1;}#sk-container-id-1 div.sk-parallel-item {display: flex;flex-direction: column;z-index: 1;position: relative;background-color: white;}#sk-container-id-1 div.sk-parallel-item:first-child::after {align-self: flex-end;width: 50%;}#sk-container-id-1 div.sk-parallel-item:last-child::after {align-self: flex-start;width: 50%;}#sk-container-id-1 div.sk-parallel-item:only-child::after {width: 0;}#sk-container-id-1 div.sk-dashed-wrapped {border: 1px dashed gray;margin: 0 0.4em 0.5em 0.4em;box-sizing: border-box;padding-bottom: 0.4em;background-color: white;}#sk-container-id-1 div.sk-label label {font-family: monospace;font-weight: bold;display: inline-block;line-height: 1.2em;}#sk-container-id-1 div.sk-label-container {text-align: center;}#sk-container-id-1 div.sk-container {/* jupyter's `normalize.less` sets `[hidden] { display: none; }` but bootstrap.min.css set `[hidden] { display: none !important; }` so we also need the `!important` here to be able to override the default hidden behavior on the sphinx rendered scikit-learn.org. See: https://github.com/scikit-learn/scikit-learn/issues/21755 */display: inline-block !important;position: relative;}#sk-container-id-1 div.sk-text-repr-fallback {display: none;}</style><div id=\"sk-container-id-1\" class=\"sk-top-container\"><div class=\"sk-text-repr-fallback\"><pre>DecisionTreeClassifier(random_state=42)</pre><b>In a Jupyter environment, please rerun this cell to show the HTML representation or trust the notebook. <br />On GitHub, the HTML representation is unable to render, please try loading this page with nbviewer.org.</b></div><div class=\"sk-container\" hidden><div class=\"sk-item\"><div class=\"sk-estimator sk-toggleable\"><input class=\"sk-toggleable__control sk-hidden--visually\" id=\"sk-estimator-id-1\" type=\"checkbox\" checked><label for=\"sk-estimator-id-1\" class=\"sk-toggleable__label sk-toggleable__label-arrow\">DecisionTreeClassifier</label><div class=\"sk-toggleable__content\"><pre>DecisionTreeClassifier(random_state=42)</pre></div></div></div></div></div>"
      ],
      "text/plain": [
       "DecisionTreeClassifier(random_state=42)"
      ]
     },
     "execution_count": 7,
     "metadata": {},
     "output_type": "execute_result"
    }
   ],
   "source": [
    "\n",
    "model.fit(X_train, y_train)     # Train the model"
   ]
  },
  {
   "cell_type": "code",
   "execution_count": 8,
   "metadata": {},
   "outputs": [],
   "source": [
    "\n",
    "\n",
    "y_pred = model.predict(X_test)    # Prediction on the test set\n"
   ]
  },
  {
   "cell_type": "code",
   "execution_count": 9,
   "metadata": {},
   "outputs": [
    {
     "name": "stdout",
     "output_type": "stream",
     "text": [
      "People with diabetes:\n",
      "     Pregnancies  Glucose  BloodPressure  SkinThickness  Insulin   BMI  \\\n",
      "667           10      111             70             27        0  27.5   \n",
      "199            4      148             60             27      318  30.9   \n",
      "356            1      125             50             40      167  33.3   \n",
      "604            4      183              0              0        0  28.4   \n",
      "213            0      140             65             26      130  42.6   \n",
      "209            7      184             84             33        0  35.5   \n",
      "328            2      102             86             36      120  45.5   \n",
      "120            0      162             76             56      100  53.2   \n",
      "363            4      146             78              0        0  38.5   \n",
      "425            4      184             78             39      277  37.0   \n",
      "300            0      167              0              0        0  32.3   \n",
      "338            9      152             78             34      171  34.2   \n",
      "579            2      197             70             99        0  34.7   \n",
      "66             0      109             88             30        0  32.5   \n",
      "78             0      131              0              0        0  43.2   \n",
      "635           13      104             72              0        0  31.2   \n",
      "31             3      158             76             36      245  31.6   \n",
      "39             4      111             72             47      207  37.1   \n",
      "516            9      145             88             34      165  30.3   \n",
      "375           12      140             82             43      325  39.2   \n",
      "451            2      134             70              0        0  28.9   \n",
      "404            5      168             64              0        0  32.9   \n",
      "754            8      154             78             32        0  32.4   \n",
      "254           12       92             62              7      258  27.6   \n",
      "84             5      137            108              0        0  48.8   \n",
      "409            1      172             68             49      579  42.4   \n",
      "109            0       95             85             25       36  37.4   \n",
      "192            7      159             66              0        0  30.4   \n",
      "448            0      104             64             37       64  33.6   \n",
      "748            3      187             70             22      200  36.4   \n",
      "155            7      152             88             44        0  50.0   \n",
      "309            2      124             68             28      205  32.9   \n",
      "468            8      120              0              0        0  30.0   \n",
      "220            0      177             60             29      478  34.6   \n",
      "72            13      126             90              0        0  43.4   \n",
      "394            4      158             78              0        0  32.9   \n",
      "716            3      173             78             39      185  33.8   \n",
      "659            3       80             82             31       70  34.2   \n",
      "314            7      109             80             31        0  35.9   \n",
      "662            8      167            106             46      231  37.6   \n",
      "227            3      162             52             38        0  37.2   \n",
      "23             9      119             80             35        0  29.0   \n",
      "706           10      115              0              0        0   0.0   \n",
      "259           11      155             76             28      150  33.3   \n",
      "193           11      135              0              0        0  52.3   \n",
      "2              8      183             64              0        0  23.3   \n",
      "215           12      151             70             40      271  41.8   \n",
      "648           11      136             84             35      130  28.3   \n",
      "606            1      181             78             42      293  40.0   \n",
      "731            8      120             86              0        0  28.4   \n",
      "691           13      158            114              0        0  42.3   \n",
      "603            7      150             78             29      126  35.2   \n",
      "218            5       85             74             22        0  29.0   \n",
      "355            9      165             88              0        0  30.4   \n",
      "296            2      146             70             38      360  28.0   \n",
      "\n",
      "     DiabetesPedigreeFunction  Age  Outcome  \n",
      "667                     0.141   40        1  \n",
      "199                     0.150   29        1  \n",
      "356                     0.962   28        1  \n",
      "604                     0.212   36        1  \n",
      "213                     0.431   24        1  \n",
      "209                     0.355   41        1  \n",
      "328                     0.127   23        1  \n",
      "120                     0.759   25        1  \n",
      "363                     0.520   67        1  \n",
      "425                     0.264   31        1  \n",
      "300                     0.839   30        1  \n",
      "338                     0.893   33        1  \n",
      "579                     0.575   62        1  \n",
      "66                      0.855   38        1  \n",
      "78                      0.270   26        1  \n",
      "635                     0.465   38        1  \n",
      "31                      0.851   28        1  \n",
      "39                      1.390   56        1  \n",
      "516                     0.771   53        1  \n",
      "375                     0.528   58        1  \n",
      "451                     0.542   23        1  \n",
      "404                     0.135   41        1  \n",
      "754                     0.443   45        1  \n",
      "254                     0.926   44        1  \n",
      "84                      0.227   37        1  \n",
      "409                     0.702   28        1  \n",
      "109                     0.247   24        1  \n",
      "192                     0.383   36        1  \n",
      "448                     0.510   22        1  \n",
      "748                     0.408   36        1  \n",
      "155                     0.337   36        1  \n",
      "309                     0.875   30        1  \n",
      "468                     0.183   38        1  \n",
      "220                     1.072   21        1  \n",
      "72                      0.583   42        1  \n",
      "394                     0.803   31        1  \n",
      "716                     0.970   31        1  \n",
      "659                     1.292   27        1  \n",
      "314                     1.127   43        1  \n",
      "662                     0.165   43        1  \n",
      "227                     0.652   24        1  \n",
      "23                      0.263   29        1  \n",
      "706                     0.261   30        1  \n",
      "259                     1.353   51        1  \n",
      "193                     0.578   40        1  \n",
      "2                       0.672   32        1  \n",
      "215                     0.742   38        1  \n",
      "648                     0.260   42        1  \n",
      "606                     1.258   22        1  \n",
      "731                     0.259   22        1  \n",
      "691                     0.257   44        1  \n",
      "603                     0.692   54        1  \n",
      "218                     1.224   32        1  \n",
      "355                     0.302   49        1  \n",
      "296                     0.337   29        1  \n",
      "Number of people with diabetes: 55\n",
      "Number of people without diabetes: 99\n"
     ]
    }
   ],
   "source": [
    "# get the number of people with and without diabetes in the test set\n",
    "diabetes_count = y_test[y_test == 1].count()\n",
    "no_diabetes_count = y_test[y_test == 0].count()\n",
    "\n",
    "\n",
    "people_with_diabetes = df.loc[y_test[y_test == 1].index]\n",
    "\n",
    "print(\"People with diabetes:\")\n",
    "print(people_with_diabetes)\n",
    "\n",
    "\n",
    "print(\"Number of people with diabetes:\", diabetes_count)\n",
    "print(\"Number of people without diabetes:\", no_diabetes_count)\n"
   ]
  },
  {
   "cell_type": "code",
   "execution_count": 10,
   "metadata": {},
   "outputs": [
    {
     "name": "stdout",
     "output_type": "stream",
     "text": [
      "Accuracy Score: 0.7467532467532467\n",
      "Confusion Matrix:\n",
      " [[75 24]\n",
      " [15 40]]\n",
      "Classification Report:\n",
      "               precision    recall  f1-score   support\n",
      "\n",
      "           0       0.83      0.76      0.79        99\n",
      "           1       0.62      0.73      0.67        55\n",
      "\n",
      "    accuracy                           0.75       154\n",
      "   macro avg       0.73      0.74      0.73       154\n",
      "weighted avg       0.76      0.75      0.75       154\n",
      "\n"
     ]
    }
   ],
   "source": [
    "\n",
    "# Evaluate the model\n",
    "print(\"Accuracy Score:\", accuracy_score(y_test, y_pred))\n",
    "print(\"Confusion Matrix:\\n\", confusion_matrix(y_test, y_pred))\n",
    "print(\"Classification Report:\\n\", classification_report(y_test, y_pred))"
   ]
  }
 ],
 "metadata": {
  "kernelspec": {
   "display_name": "Python 3",
   "language": "python",
   "name": "python3"
  },
  "language_info": {
   "codemirror_mode": {
    "name": "ipython",
    "version": 3
   },
   "file_extension": ".py",
   "mimetype": "text/x-python",
   "name": "python",
   "nbconvert_exporter": "python",
   "pygments_lexer": "ipython3",
   "version": "3.12.0"
  }
 },
 "nbformat": 4,
 "nbformat_minor": 2
}
